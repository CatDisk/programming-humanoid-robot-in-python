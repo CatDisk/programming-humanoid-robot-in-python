{
 "cells": [
  {
   "cell_type": "markdown",
   "metadata": {},
   "source": [
    "# Learn Posture"
   ]
  },
  {
   "cell_type": "markdown",
   "metadata": {},
   "source": [
    "use machine learning to recognize robot's posture (following the example in [scikit-learn-intro.ipynb](./scikit-learn-intro.ipynb) )"
   ]
  },
  {
   "cell_type": "markdown",
   "metadata": {},
   "source": [
    "## 1. Data collection\n",
    "\n",
    "We have colleceted data before, you need to add new data if you want to add new posture.\n",
    "\n",
    "* the dateset are in *robot_pose_data* folder\n",
    "* each file contains the data belongs to this posture, e.g. the data in *Back* file are collected when robot was in \"Back\" posture\n",
    "* the data file can be load by ```pickle```, e.g. ```pickle.load(open('Back'))```, the data is a list of feature data\n",
    "* the features (e.g. each row of the data) are ['LHipYawPitch', 'LHipRoll', 'LHipPitch', 'LKneePitch', 'RHipYawPitch', 'RHipRoll', 'RHipPitch', 'RKneePitch', 'AngleX', 'AngleY'], where 'AngleX' and 'AngleY' are body angle (e.g. ```Perception.imu```) and others are joint angles."
   ]
  },
  {
   "cell_type": "markdown",
   "metadata": {},
   "source": [
    "## 2. Data preprocessing"
   ]
  },
  {
   "cell_type": "code",
   "execution_count": 1,
   "metadata": {},
   "outputs": [
    {
     "name": "stdout",
     "output_type": "stream",
     "text": [
      "Populating the interactive namespace from numpy and matplotlib\n"
     ]
    }
   ],
   "source": [
    "%pylab inline\n",
    "import pickle\n",
    "from os import listdir, path\n",
    "import numpy as np\n",
    "from sklearn import svm, metrics\n",
    "\n",
    "ROBOT_POSE_DATA_DIR = 'robot_pose_data'"
   ]
  },
  {
   "cell_type": "code",
   "execution_count": 2,
   "metadata": {},
   "outputs": [
    {
     "name": "stdout",
     "output_type": "stream",
     "text": [
      "['Sit', 'Back', 'Right', 'Crouch', 'Left', 'Frog', 'Stand', 'Knee', 'HeadBack', 'StandInit', 'Belly']\n"
     ]
    }
   ],
   "source": [
    "classes = listdir(ROBOT_POSE_DATA_DIR)\n",
    "print(classes)"
   ]
  },
  {
   "cell_type": "code",
   "execution_count": 3,
   "metadata": {},
   "outputs": [],
   "source": [
    "def load_pose_data(i):\n",
    "    '''load pose data from file'''\n",
    "    data = []\n",
    "    target = []\n",
    "    # YOUR CODE HERE\n",
    "    \n",
    "    filename = path.join(ROBOT_POSE_DATA_DIR, classes[i])\n",
    "    data = pickle.load(open(filename, 'rb'))\n",
    "    target = [i] * len(data)\n",
    "    \n",
    "    data = np.array(data)\n",
    "    target = np.array(target)\n",
    "    \n",
    "    return data, target"
   ]
  },
  {
   "cell_type": "code",
   "execution_count": 23,
   "metadata": {},
   "outputs": [
    {
     "name": "stdout",
     "output_type": "stream",
     "text": [
      "(222, 10) (222,)\n",
      "total number of data 222\n",
      "<class 'numpy.float64'>\n"
     ]
    }
   ],
   "source": [
    "# load all the data\n",
    "all_data = []\n",
    "all_target = []\n",
    "# TODO\n",
    "\n",
    "for i in range(len(classes)):\n",
    "    pose_data = load_pose_data(i)\n",
    "    for j in range(len(pose_data[0])):\n",
    "        all_data.append(pose_data[0][j])\n",
    "        all_target.append(pose_data[1][j])\n",
    "    \n",
    "all_data = np.array(all_data)\n",
    "all_target = np.array(all_target)\n",
    "\n",
    "print(all_data.shape, all_target.shape)\n",
    "print('total number of data', len(all_data))\n",
    "\n",
    "print(type(all_data[0][0]))"
   ]
  },
  {
   "cell_type": "code",
   "execution_count": 5,
   "metadata": {},
   "outputs": [],
   "source": [
    "# shuffule data\n",
    "permutation = np.random.permutation(len(all_data))\n",
    "n_training_data = int(len(all_data) * 0.7)\n",
    "training_data = permutation[:n_training_data]"
   ]
  },
  {
   "cell_type": "markdown",
   "metadata": {},
   "source": [
    "## 3. Learn on training data\n",
    "\n",
    "In scikit-learn, an estimator for classification is a Python object that implements the methods fit(X, y) and predict(T). An example of an estimator is the class sklearn.svm.SVC that implements support vector classification."
   ]
  },
  {
   "cell_type": "code",
   "execution_count": 6,
   "metadata": {},
   "outputs": [],
   "source": [
    "clf = svm.SVC(gamma=0.001, C=100.)"
   ]
  },
  {
   "cell_type": "markdown",
   "metadata": {},
   "source": [
    "### learning"
   ]
  },
  {
   "cell_type": "code",
   "execution_count": 7,
   "metadata": {},
   "outputs": [
    {
     "data": {
      "text/plain": [
       "SVC(C=100.0, gamma=0.001)"
      ]
     },
     "execution_count": 7,
     "metadata": {},
     "output_type": "execute_result"
    }
   ],
   "source": [
    "clf.fit(all_data[0:], all_target[0:])"
   ]
  },
  {
   "cell_type": "markdown",
   "metadata": {},
   "source": [
    "### predicting"
   ]
  },
  {
   "cell_type": "code",
   "execution_count": 8,
   "metadata": {},
   "outputs": [
    {
     "data": {
      "text/plain": [
       "(array([10]), array([10]))"
      ]
     },
     "execution_count": 8,
     "metadata": {},
     "output_type": "execute_result"
    }
   ],
   "source": [
    "clf.predict(all_data[-1:]), all_target[-1:]"
   ]
  },
  {
   "cell_type": "code",
   "execution_count": 9,
   "metadata": {},
   "outputs": [],
   "source": [
    "def evaluate(expected, predicted):\n",
    "    print(\"Classification report:\\n%s\\n\" % metrics.classification_report(expected, predicted))\n",
    "\n",
    "    print(\"Confusion matrix:\\n%s\" % metrics.confusion_matrix(expected, predicted))"
   ]
  },
  {
   "cell_type": "code",
   "execution_count": 10,
   "metadata": {
    "scrolled": false
   },
   "outputs": [
    {
     "name": "stdout",
     "output_type": "stream",
     "text": [
      "Classification report:\n",
      "              precision    recall  f1-score   support\n",
      "\n",
      "           0       1.00      1.00      1.00        26\n",
      "           1       1.00      1.00      1.00        23\n",
      "           2       1.00      0.91      0.95        11\n",
      "           3       0.97      1.00      0.98        30\n",
      "           4       1.00      1.00      1.00        20\n",
      "           5       1.00      1.00      1.00        10\n",
      "           6       1.00      1.00      1.00        11\n",
      "           7       1.00      1.00      1.00        10\n",
      "           8       1.00      1.00      1.00        10\n",
      "           9       1.00      1.00      1.00        52\n",
      "          10       1.00      1.00      1.00        19\n",
      "\n",
      "    accuracy                           1.00       222\n",
      "   macro avg       1.00      0.99      0.99       222\n",
      "weighted avg       1.00      1.00      1.00       222\n",
      "\n",
      "\n",
      "Confusion matrix:\n",
      "[[26  0  0  0  0  0  0  0  0  0  0]\n",
      " [ 0 23  0  0  0  0  0  0  0  0  0]\n",
      " [ 0  0 10  1  0  0  0  0  0  0  0]\n",
      " [ 0  0  0 30  0  0  0  0  0  0  0]\n",
      " [ 0  0  0  0 20  0  0  0  0  0  0]\n",
      " [ 0  0  0  0  0 10  0  0  0  0  0]\n",
      " [ 0  0  0  0  0  0 11  0  0  0  0]\n",
      " [ 0  0  0  0  0  0  0 10  0  0  0]\n",
      " [ 0  0  0  0  0  0  0  0 10  0  0]\n",
      " [ 0  0  0  0  0  0  0  0  0 52  0]\n",
      " [ 0  0  0  0  0  0  0  0  0  0 19]]\n"
     ]
    }
   ],
   "source": [
    "expected = []\n",
    "predicted = []\n",
    "\n",
    "predicted = clf.predict(all_data)\n",
    "\n",
    "evaluate(all_target, predicted)"
   ]
  },
  {
   "cell_type": "markdown",
   "metadata": {},
   "source": [
    "## 4. Evaluate on the test data"
   ]
  },
  {
   "cell_type": "code",
   "execution_count": 11,
   "metadata": {},
   "outputs": [
    {
     "name": "stdout",
     "output_type": "stream",
     "text": [
      "Classification report:\n",
      "              precision    recall  f1-score   support\n",
      "\n",
      "           0       1.00      1.00      1.00        26\n",
      "           1       1.00      1.00      1.00        23\n",
      "           2       1.00      0.91      0.95        11\n",
      "           3       0.97      1.00      0.98        30\n",
      "           4       1.00      1.00      1.00        20\n",
      "           5       1.00      1.00      1.00        10\n",
      "           6       1.00      1.00      1.00        11\n",
      "           7       1.00      1.00      1.00        10\n",
      "           8       1.00      1.00      1.00        10\n",
      "           9       1.00      1.00      1.00        52\n",
      "          10       1.00      1.00      1.00        19\n",
      "\n",
      "    accuracy                           1.00       222\n",
      "   macro avg       1.00      0.99      0.99       222\n",
      "weighted avg       1.00      1.00      1.00       222\n",
      "\n",
      "\n",
      "Confusion matrix:\n",
      "[[26  0  0  0  0  0  0  0  0  0  0]\n",
      " [ 0 23  0  0  0  0  0  0  0  0  0]\n",
      " [ 0  0 10  1  0  0  0  0  0  0  0]\n",
      " [ 0  0  0 30  0  0  0  0  0  0  0]\n",
      " [ 0  0  0  0 20  0  0  0  0  0  0]\n",
      " [ 0  0  0  0  0 10  0  0  0  0  0]\n",
      " [ 0  0  0  0  0  0 11  0  0  0  0]\n",
      " [ 0  0  0  0  0  0  0 10  0  0  0]\n",
      " [ 0  0  0  0  0  0  0  0 10  0  0]\n",
      " [ 0  0  0  0  0  0  0  0  0 52  0]\n",
      " [ 0  0  0  0  0  0  0  0  0  0 19]]\n"
     ]
    }
   ],
   "source": [
    "expected = []\n",
    "predicted = []\n",
    "test_data = []\n",
    "\n",
    "for index in permutation:\n",
    "    expected.append(all_target[index])\n",
    "    test_data.append(all_data[index])\n",
    "\n",
    "predicted = clf.predict(test_data)\n",
    "evaluate(expected, predicted)"
   ]
  },
  {
   "cell_type": "markdown",
   "metadata": {},
   "source": [
    "## 5. Deploy to the real system\n",
    "\n",
    "We can simple use `pickle` module to serialize the trained classifier."
   ]
  },
  {
   "cell_type": "code",
   "execution_count": 14,
   "metadata": {},
   "outputs": [
    {
     "name": "stdout",
     "output_type": "stream",
     "text": [
      "SVC(C=100.0, gamma=0.001)\n"
     ]
    }
   ],
   "source": [
    "import pickle\n",
    "ROBOT_POSE_CLF = \"robot_pose.pkl\"\n",
    "pickle.dump(clf, open(ROBOT_POSE_CLF, 'wb'))\n",
    "print(clf)"
   ]
  },
  {
   "cell_type": "markdown",
   "metadata": {},
   "source": [
    "Then, in the application we can load the trained classifier again."
   ]
  },
  {
   "cell_type": "code",
   "execution_count": 20,
   "metadata": {},
   "outputs": [
    {
     "data": {
      "text/plain": [
       "(array([10]), array([10]))"
      ]
     },
     "execution_count": 20,
     "metadata": {},
     "output_type": "execute_result"
    }
   ],
   "source": [
    "clf2 = pickle.load(open(ROBOT_POSE_CLF, 'rb'))\n",
    "clf2.predict(all_data[-1:]), all_target[-1:]"
   ]
  },
  {
   "cell_type": "code",
   "execution_count": null,
   "metadata": {},
   "outputs": [],
   "source": []
  }
 ],
 "metadata": {
  "kernelspec": {
   "display_name": "Robocup",
   "language": "python",
   "name": "robocup"
  },
  "language_info": {
   "codemirror_mode": {
    "name": "ipython",
    "version": 3
   },
   "file_extension": ".py",
   "mimetype": "text/x-python",
   "name": "python",
   "nbconvert_exporter": "python",
   "pygments_lexer": "ipython3",
   "version": "3.8.3"
  },
  "widgets": {
   "state": {},
   "version": "1.0.0"
  }
 },
 "nbformat": 4,
 "nbformat_minor": 1
}
